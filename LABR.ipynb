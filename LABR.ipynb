{
 "cells": [
  {
   "cell_type": "code",
   "execution_count": 105,
   "metadata": {},
   "outputs": [],
   "source": [
    "#Loading the data set - training data.\n",
    "import sys, os, re, csv, codecs, numpy as np, pandas as pd\n",
    "from sklearn.datasets import fetch_20newsgroups\n",
    "from sklearn.cross_validation import train_test_split\n",
    "from sklearn.feature_extraction.text import CountVectorizer\n",
    "from sklearn.feature_extraction.text import TfidfTransformer\n",
    "from sklearn.naive_bayes import MultinomialNB\n",
    "from sklearn.metrics import accuracy_score, f1_score, precision_score, recall_score, classification_report, confusion_matrix\n",
    "from gensim.models import KeyedVectors\n",
    "from sklearn.preprocessing import Imputer\n",
    "from nltk.tokenize import wordpunct_tokenize\n",
    "from sklearn.ensemble import RandomForestClassifier\n",
    "from sklearn.linear_model import SGDClassifier, LogisticRegressionCV\n",
    "from sklearn.svm import LinearSVC, NuSVC\n",
    "from sklearn.naive_bayes import GaussianNB\n",
    "from sklearn import metrics\n",
    "from sklearn.pipeline import Pipeline\n",
    "from sklearn.model_selection import GridSearchCV\n",
    "from keras.preprocessing.text import Tokenizer\n",
    "from keras.preprocessing.sequence import pad_sequences\n",
    "from keras.layers import Dense, Input, LSTM, Embedding, Dropout, Activation\n",
    "from keras.layers import Bidirectional, GlobalMaxPool1D\n",
    "from keras.models import Model\n",
    "from keras import initializers, regularizers, constraints, optimizers, layers"
   ]
  },
  {
   "cell_type": "code",
   "execution_count": 132,
   "metadata": {},
   "outputs": [
    {
     "name": "stdout",
     "output_type": "stream",
     "text": [
      "63257\n"
     ]
    },
    {
     "name": "stderr",
     "output_type": "stream",
     "text": [
      "C:\\Users\\aas3n17\\AppData\\Local\\Continuum\\anaconda3\\lib\\site-packages\\ipykernel_launcher.py:3: SettingWithCopyWarning: \n",
      "A value is trying to be set on a copy of a slice from a DataFrame\n",
      "\n",
      "See the caveats in the documentation: http://pandas.pydata.org/pandas-docs/stable/indexing.html#indexing-view-versus-copy\n",
      "  This is separate from the ipykernel package so we can avoid doing imports until\n",
      "C:\\Users\\aas3n17\\AppData\\Local\\Continuum\\anaconda3\\lib\\site-packages\\ipykernel_launcher.py:4: SettingWithCopyWarning: \n",
      "A value is trying to be set on a copy of a slice from a DataFrame\n",
      "\n",
      "See the caveats in the documentation: http://pandas.pydata.org/pandas-docs/stable/indexing.html#indexing-view-versus-copy\n",
      "  after removing the cwd from sys.path.\n"
     ]
    },
    {
     "data": {
      "text/plain": [
       "5    42832\n",
       "3    12201\n",
       "1     8224\n",
       "Name: rating, dtype: int64"
      ]
     },
     "execution_count": 132,
     "metadata": {},
     "output_type": "execute_result"
    }
   ],
   "source": [
    "df=pd.read_csv('reviews.tsv',sep='\\t', encoding='utf-8',names = ['rating','review_id','user_id', 'book_id','review'])\n",
    "print(len(df))\n",
    "df.rating[df.rating == 2] = 1\n",
    "df.rating[df.rating == 4] = 5\n",
    "df.rating.value_counts()"
   ]
  },
  {
   "cell_type": "code",
   "execution_count": 134,
   "metadata": {},
   "outputs": [
    {
     "name": "stderr",
     "output_type": "stream",
     "text": [
      "C:\\Users\\aas3n17\\AppData\\Local\\Continuum\\anaconda3\\lib\\site-packages\\ipykernel_launcher.py:1: SettingWithCopyWarning: \n",
      "A value is trying to be set on a copy of a slice from a DataFrame\n",
      "\n",
      "See the caveats in the documentation: http://pandas.pydata.org/pandas-docs/stable/indexing.html#indexing-view-versus-copy\n",
      "  \"\"\"Entry point for launching an IPython kernel.\n"
     ]
    },
    {
     "data": {
      "text/plain": [
       "5    42832\n",
       "3    12201\n",
       "0     8224\n",
       "Name: rating, dtype: int64"
      ]
     },
     "execution_count": 134,
     "metadata": {},
     "output_type": "execute_result"
    }
   ],
   "source": [
    "df.rating[df.rating == 1] = 0\n",
    "df.rating.value_counts()"
   ]
  },
  {
   "cell_type": "code",
   "execution_count": 135,
   "metadata": {},
   "outputs": [
    {
     "name": "stderr",
     "output_type": "stream",
     "text": [
      "C:\\Users\\aas3n17\\AppData\\Local\\Continuum\\anaconda3\\lib\\site-packages\\ipykernel_launcher.py:1: SettingWithCopyWarning: \n",
      "A value is trying to be set on a copy of a slice from a DataFrame\n",
      "\n",
      "See the caveats in the documentation: http://pandas.pydata.org/pandas-docs/stable/indexing.html#indexing-view-versus-copy\n",
      "  \"\"\"Entry point for launching an IPython kernel.\n"
     ]
    },
    {
     "data": {
      "text/plain": [
       "1    42832\n",
       "3    12201\n",
       "0     8224\n",
       "Name: rating, dtype: int64"
      ]
     },
     "execution_count": 135,
     "metadata": {},
     "output_type": "execute_result"
    }
   ],
   "source": [
    "df.rating[df.rating == 5] = 1\n",
    "df.rating.value_counts()"
   ]
  },
  {
   "cell_type": "code",
   "execution_count": 137,
   "metadata": {},
   "outputs": [],
   "source": [
    "neg=df[df.rating == 0] \n",
    "pos=df[df.rating == 1] "
   ]
  },
  {
   "cell_type": "code",
   "execution_count": 140,
   "metadata": {},
   "outputs": [],
   "source": [
    "neg=df[df.rating == 0] \n",
    "pos=df[df.rating == 1] \n",
    "test_neg=neg[0:1500]\n",
    "train_neg=neg[1500:8224]\n",
    "test_pos=pos[0:1500]\n",
    "train_pos=pos[1500:8224]\n",
    "train=pd.concat([train_neg, train_pos])\n",
    "test=pd.concat([test_neg, test_pos])\n",
    "from sklearn.utils import shuffle\n",
    "train = shuffle(train)\n",
    "test = shuffle(test)"
   ]
  },
  {
   "cell_type": "code",
   "execution_count": 141,
   "metadata": {},
   "outputs": [],
   "source": [
    "train=pd.concat([train_neg, train_pos])\n",
    "test=pd.concat([test_neg, test_pos])"
   ]
  },
  {
   "cell_type": "code",
   "execution_count": 151,
   "metadata": {},
   "outputs": [],
   "source": [
    "from sklearn.utils import shuffle\n",
    "train = shuffle(train)\n",
    "test = shuffle(test)"
   ]
  },
  {
   "cell_type": "code",
   "execution_count": 152,
   "metadata": {},
   "outputs": [
    {
     "data": {
      "text/plain": [
       "1    6724\n",
       "0    6724\n",
       "Name: rating, dtype: int64"
      ]
     },
     "execution_count": 152,
     "metadata": {},
     "output_type": "execute_result"
    }
   ],
   "source": [
    "train.rating.value_counts()"
   ]
  },
  {
   "cell_type": "code",
   "execution_count": 154,
   "metadata": {},
   "outputs": [
    {
     "data": {
      "text/plain": [
       "1    1500\n",
       "0    1500\n",
       "Name: rating, dtype: int64"
      ]
     },
     "execution_count": 154,
     "metadata": {},
     "output_type": "execute_result"
    }
   ],
   "source": [
    "test.rating.value_counts()"
   ]
  },
  {
   "cell_type": "code",
   "execution_count": 145,
   "metadata": {},
   "outputs": [
    {
     "data": {
      "text/plain": [
       "13448"
      ]
     },
     "execution_count": 145,
     "metadata": {},
     "output_type": "execute_result"
    }
   ],
   "source": [
    "len(train)"
   ]
  },
  {
   "cell_type": "code",
   "execution_count": 155,
   "metadata": {},
   "outputs": [
    {
     "data": {
      "text/plain": [
       "3000"
      ]
     },
     "execution_count": 155,
     "metadata": {},
     "output_type": "execute_result"
    }
   ],
   "source": [
    "len(test)"
   ]
  },
  {
   "cell_type": "code",
   "execution_count": 175,
   "metadata": {},
   "outputs": [
    {
     "ename": "TypeError",
     "evalue": "expected string or bytes-like object",
     "output_type": "error",
     "traceback": [
      "\u001b[1;31m---------------------------------------------------------------------------\u001b[0m",
      "\u001b[1;31mTypeError\u001b[0m                                 Traceback (most recent call last)",
      "\u001b[1;32m<ipython-input-175-eac5c941397d>\u001b[0m in \u001b[0;36m<module>\u001b[1;34m()\u001b[0m\n\u001b[1;32m----> 1\u001b[1;33m \u001b[0mreviews\u001b[0m\u001b[1;33m=\u001b[0m \u001b[0mclean_raw_review\u001b[0m\u001b[1;33m(\u001b[0m \u001b[0mtest\u001b[0m\u001b[1;33m.\u001b[0m\u001b[0mreview\u001b[0m\u001b[1;33m)\u001b[0m\u001b[1;33m\u001b[0m\u001b[0m\n\u001b[0m",
      "\u001b[1;32m<ipython-input-171-534936b04846>\u001b[0m in \u001b[0;36mclean_raw_review\u001b[1;34m(body)\u001b[0m\n\u001b[0;32m     54\u001b[0m     \u001b[1;31m# do some subsitutions\u001b[0m\u001b[1;33m\u001b[0m\u001b[1;33m\u001b[0m\u001b[0m\n\u001b[0;32m     55\u001b[0m     \u001b[1;32mfor\u001b[0m \u001b[0mk\u001b[0m\u001b[1;33m,\u001b[0m\u001b[0mv\u001b[0m \u001b[1;32min\u001b[0m \u001b[0mpat\u001b[0m\u001b[1;33m:\u001b[0m\u001b[1;33m\u001b[0m\u001b[0m\n\u001b[1;32m---> 56\u001b[1;33m         \u001b[0mbody\u001b[0m\u001b[1;33m.\u001b[0m\u001b[0mempty\u001b[0m \u001b[1;33m=\u001b[0m \u001b[0mre\u001b[0m\u001b[1;33m.\u001b[0m\u001b[0msub\u001b[0m\u001b[1;33m(\u001b[0m\u001b[0mk\u001b[0m\u001b[1;33m,\u001b[0m \u001b[0mv\u001b[0m\u001b[1;33m,\u001b[0m \u001b[0mbody\u001b[0m\u001b[1;33m)\u001b[0m\u001b[1;33m\u001b[0m\u001b[0m\n\u001b[0m\u001b[0;32m     57\u001b[0m \u001b[1;33m\u001b[0m\u001b[0m\n\u001b[0;32m     58\u001b[0m     \u001b[1;31m# remove if exist\u001b[0m\u001b[1;33m\u001b[0m\u001b[1;33m\u001b[0m\u001b[0m\n",
      "\u001b[1;32m~\\AppData\\Local\\Continuum\\anaconda3\\lib\\re.py\u001b[0m in \u001b[0;36msub\u001b[1;34m(pattern, repl, string, count, flags)\u001b[0m\n\u001b[0;32m    189\u001b[0m     \u001b[0ma\u001b[0m \u001b[0mcallable\u001b[0m\u001b[1;33m,\u001b[0m \u001b[0mit\u001b[0m\u001b[0;31m'\u001b[0m\u001b[0ms\u001b[0m \u001b[0mpassed\u001b[0m \u001b[0mthe\u001b[0m \u001b[0mmatch\u001b[0m \u001b[0mobject\u001b[0m \u001b[1;32mand\u001b[0m \u001b[0mmust\u001b[0m \u001b[1;32mreturn\u001b[0m\u001b[1;33m\u001b[0m\u001b[0m\n\u001b[0;32m    190\u001b[0m     a replacement string to be used.\"\"\"\n\u001b[1;32m--> 191\u001b[1;33m     \u001b[1;32mreturn\u001b[0m \u001b[0m_compile\u001b[0m\u001b[1;33m(\u001b[0m\u001b[0mpattern\u001b[0m\u001b[1;33m,\u001b[0m \u001b[0mflags\u001b[0m\u001b[1;33m)\u001b[0m\u001b[1;33m.\u001b[0m\u001b[0msub\u001b[0m\u001b[1;33m(\u001b[0m\u001b[0mrepl\u001b[0m\u001b[1;33m,\u001b[0m \u001b[0mstring\u001b[0m\u001b[1;33m,\u001b[0m \u001b[0mcount\u001b[0m\u001b[1;33m)\u001b[0m\u001b[1;33m\u001b[0m\u001b[0m\n\u001b[0m\u001b[0;32m    192\u001b[0m \u001b[1;33m\u001b[0m\u001b[0m\n\u001b[0;32m    193\u001b[0m \u001b[1;32mdef\u001b[0m \u001b[0msubn\u001b[0m\u001b[1;33m(\u001b[0m\u001b[0mpattern\u001b[0m\u001b[1;33m,\u001b[0m \u001b[0mrepl\u001b[0m\u001b[1;33m,\u001b[0m \u001b[0mstring\u001b[0m\u001b[1;33m,\u001b[0m \u001b[0mcount\u001b[0m\u001b[1;33m=\u001b[0m\u001b[1;36m0\u001b[0m\u001b[1;33m,\u001b[0m \u001b[0mflags\u001b[0m\u001b[1;33m=\u001b[0m\u001b[1;36m0\u001b[0m\u001b[1;33m)\u001b[0m\u001b[1;33m:\u001b[0m\u001b[1;33m\u001b[0m\u001b[0m\n",
      "\u001b[1;31mTypeError\u001b[0m: expected string or bytes-like object"
     ]
    }
   ],
   "source": [
    "reviews= clean_raw_review( test.review)"
   ]
  },
  {
   "cell_type": "code",
   "execution_count": 180,
   "metadata": {},
   "outputs": [
    {
     "ename": "AttributeError",
     "evalue": "'str' object has no attribute 'empty'",
     "output_type": "error",
     "traceback": [
      "\u001b[1;31m---------------------------------------------------------------------------\u001b[0m",
      "\u001b[1;31mAttributeError\u001b[0m                            Traceback (most recent call last)",
      "\u001b[1;32m<ipython-input-180-a68c41704593>\u001b[0m in \u001b[0;36m<module>\u001b[1;34m()\u001b[0m\n\u001b[0;32m      1\u001b[0m \u001b[0mcleaned_rev\u001b[0m\u001b[1;33m=\u001b[0m\u001b[1;33m[\u001b[0m\u001b[1;33m]\u001b[0m\u001b[1;33m\u001b[0m\u001b[0m\n\u001b[0;32m      2\u001b[0m \u001b[1;32mfor\u001b[0m \u001b[0mreview\u001b[0m \u001b[1;32min\u001b[0m \u001b[0mtest\u001b[0m\u001b[1;33m:\u001b[0m\u001b[1;33m\u001b[0m\u001b[0m\n\u001b[1;32m----> 3\u001b[1;33m     \u001b[0mcleaned_rev\u001b[0m\u001b[1;33m.\u001b[0m\u001b[0mappend\u001b[0m\u001b[1;33m(\u001b[0m\u001b[0mclean_raw_review\u001b[0m\u001b[1;33m(\u001b[0m\u001b[0mreview\u001b[0m\u001b[1;33m)\u001b[0m\u001b[1;33m)\u001b[0m\u001b[1;33m\u001b[0m\u001b[0m\n\u001b[0m",
      "\u001b[1;32m<ipython-input-171-534936b04846>\u001b[0m in \u001b[0;36mclean_raw_review\u001b[1;34m(body)\u001b[0m\n\u001b[0;32m     50\u001b[0m \u001b[1;33m\u001b[0m\u001b[0m\n\u001b[0;32m     51\u001b[0m     \u001b[1;31m# if empty body, skip\u001b[0m\u001b[1;33m\u001b[0m\u001b[1;33m\u001b[0m\u001b[0m\n\u001b[1;32m---> 52\u001b[1;33m     \u001b[1;32mif\u001b[0m \u001b[0mbody\u001b[0m\u001b[1;33m.\u001b[0m\u001b[0mempty\u001b[0m\u001b[1;33m:\u001b[0m \u001b[0mskip\u001b[0m \u001b[1;33m=\u001b[0m \u001b[1;32mTrue\u001b[0m\u001b[1;33m\u001b[0m\u001b[0m\n\u001b[0m\u001b[0;32m     53\u001b[0m \u001b[1;33m\u001b[0m\u001b[0m\n\u001b[0;32m     54\u001b[0m     \u001b[1;31m# do some subsitutions\u001b[0m\u001b[1;33m\u001b[0m\u001b[1;33m\u001b[0m\u001b[0m\n",
      "\u001b[1;31mAttributeError\u001b[0m: 'str' object has no attribute 'empty'"
     ]
    }
   ],
   "source": [
    "cleaned_rev=[]\n",
    "for review in test:\n",
    "    cleaned_rev.append(clean_raw_review(review))"
   ]
  },
  {
   "cell_type": "code",
   "execution_count": 178,
   "metadata": {},
   "outputs": [],
   "source": [
    "def arabicrange():\n",
    "        \"\"\"return a list of arabic characteres .\n",
    "        Return a list of characteres between \\u060c to \\u0652\n",
    "        @return: list of arabic characteres.\n",
    "        @rtype: unicode;\n",
    "        \"\"\"\n",
    "        mylist=[];\n",
    "        for i in range(0x0600, 0x00653):\n",
    "            try :\n",
    "                mylist.append(chr(i));\n",
    "            except ValueError:\n",
    "                pass;\n",
    "        return mylist;\n",
    "\n",
    "    # cleans a single review"
   ]
  },
  {
   "cell_type": "code",
   "execution_count": 171,
   "metadata": {},
   "outputs": [],
   "source": [
    "    import codecs\n",
    "    import numpy as np\n",
    "    import pandas as pd\n",
    "    import re\n",
    "    def clean_raw_review( body):\n",
    "         # patterns to remove first\n",
    "        pat = [\\\n",
    "            (u'http[s]?://[a-zA-Z0-9_\\-./~\\?=%&]+', u''),               # remove links\n",
    "            (u'www[a-zA-Z0-9_\\-?=%&/.~]+', u''),\n",
    "#            u'\\n+': u' ',                     # remove newlines\n",
    "            (u'<br />', u' '),                  # remove html line breaks\n",
    "            (u'</?[^>]+>', u' '),              # remove html markup\n",
    "#            u'http': u'',\n",
    "            (u'[a-zA-Z]+\\.org', u''),\n",
    "            (u'[a-zA-Z]+\\.com', u''),\n",
    "            (u'://', u''),\n",
    "            (u'&[^;]+;', u' '),\n",
    "            (u':D', u':)'),\n",
    "#            (u'[0-9/]+', u''),\n",
    "#            u'[a-zA-Z.]+': u'',\n",
    "#            u'[^0-9' + u''.join(self.arabicrange()) + \\\n",
    "#                u\"!.,;:$%&*%'#(){}~`\\[\\]/\\\\\\\\\\\"\" + \\\n",
    "#                u'\\s^><\\-_\\u201D\\u00AB=\\u2026]+': u'',          # remove latin characters\n",
    "            (u'\\s+', u' '),                     # remove spaces\n",
    "            (u'\\.+', u'.'),                     # multiple dots\n",
    "            (u'[\\u201C\\u201D]', u'\"'),          #“\n",
    "            (u'[\\u2665\\u2764]', u''),           # heart symbol\n",
    "            (u'[\\u00BB\\u00AB]', u'\"'),\n",
    "            (u'\\u2013', u'-'),                # dash\n",
    "        ]\n",
    "\n",
    "        # patterns that disqualify a review\n",
    "        remove_if_there = [\\\n",
    "            (u'[^0-9' + u''.join(arabicrange()) + \\\n",
    "                u\"!.,;:$%&*%'#(){}~`\\[\\]/\\\\\\\\\\\"\" + \\\n",
    "                u'\\s\\^><\\-_\\u201D\\u00AB=\\u2026+|' + \\\n",
    "                u'\\u0660-\\u066D\\u201C\\u201D' + \\\n",
    "                u'\\ufefb\\ufef7\\ufef5\\ufef9]+', u''),                   # non arabic characters\n",
    "        ]\n",
    "\n",
    "        # patterns that disqualify if empty after removing\n",
    "        remove_if_empty_after = [\\\n",
    "            (u'[0-9a-zA-Z\\-_]', u' '),             #alpha-numeric\n",
    "            (u'[0-9' + u\".,!;:$%&*%'#(){}~`\\[\\]/\\\\\\\\\\\"\" + \\\n",
    "                u'\\s\\^><`\\-=_+]+', u''),                  # remove just punctuation\n",
    "            (u'\\s+', u' '),                     # remove spaces\n",
    "        ]\n",
    "\n",
    "        # remove again\n",
    "        # patterns to remove\n",
    "        pat2 = [\\\n",
    "#            u'[^0-9' + u''.join(self.arabicrange()) + \\\n",
    "#                u\"!.,;:$%&*%'#(){}~`\\[\\]/\\\\\\\\\\\"\" + \\\n",
    "#                u'\\s^><\\-_\\u201D\\u00AB=\\u2026]+': u'',          # remove latin characters\n",
    "        ]\n",
    "\n",
    "        skip = False\n",
    "\n",
    "\n",
    "\n",
    "        # do some subsitutions\n",
    "        for k,v in pat:\n",
    "            body.empty = re.sub(k, v, body)\n",
    "\n",
    "        # remove if exist\n",
    "        for k,v in remove_if_there:\n",
    "            if re.search(k, body):\n",
    "                skip = True\n",
    "\n",
    "        # remove if empty after replacing\n",
    "        for k,v in remove_if_empty_after:\n",
    "            temp = re.sub(k, v, body)\n",
    "            if not temp.empty:\n",
    "                skip = True\n",
    "\n",
    "        # do some more subsitutions\n",
    "        if not skip:\n",
    "            for k,v in pat2:\n",
    "                body = re.sub(k, v, body)\n",
    "\n",
    "        # if empty string, skip\n",
    "        if body.empty:\n",
    "            skip = True\n",
    "\n",
    "        if not skip:\n",
    "            return body\n",
    "        else:\n",
    "            return \"\"\n",
    "\n",
    "    # Read raw reviews from file and clean and write into clean_reviews\n",
    "    \n",
    "\n",
    "    "
   ]
  },
  {
   "cell_type": "code",
   "execution_count": 99,
   "metadata": {},
   "outputs": [],
   "source": [
    "    def clean(df):\n",
    "        path = \"Arabic_stop_word.txt\"\n",
    "        stop_words = []\n",
    "        with codecs.open(path, \"r\", encoding=\"utf-8\", errors=\"ignore\") as myfile:\n",
    "            stop_words = myfile.readlines()\n",
    "        stop_words = [word.strip() for word in stop_words]\n",
    "        arabic_punctuations = '''؛<>_()*،&^%][ـ،/:\"؟ـ`÷×.,'{}~¦+|!”…“–_'''\n",
    "        english_punctuations = string.punctuation\n",
    "        punctuations_list = arabic_punctuations + english_punctuations\n",
    "\n",
    "        arabic_diacritics = re.compile(\"\"\"\n",
    "                             ّ    | # Tashdid\n",
    "                             َ    | # Fatha\n",
    "                             ً    | # Tanwin Fath\n",
    "                             ُ    | # Damma\n",
    "                             ٌ    | # Tanwin Damm\n",
    "                             ِ    | # Kasra\n",
    "                             ٍ    | # Tanwin Kasr\n",
    "                             ْ    | # Sukun\n",
    "                             ـ     # Tatwil/Kashida\n",
    "                         \"\"\", re.VERBOSE)\n",
    "        for comments in df:\n",
    "            \n",
    "            \n",
    "            # removearabic_diacritics\n",
    "            df['txt'] = df['txt'].map(lambda x: re.sub(arabic_diacritics,'',str(x)))\n",
    "\n",
    "            #def normalize_arabic(text)\n",
    "            df['txt'] = df['txt'].map(lambda x: re.sub(\"[إأآا]\", \"ا\",str(x)))\n",
    "            df['txt'] = df['txt'].map(lambda x: re.sub(\"ؤ\", \"ء\",str(x)))\n",
    "            df['txt'] = df['txt'].map(lambda x: re.sub(\"ى\", \"ي\",str(x)))\n",
    "            df['txt'] = df['txt'].map(lambda x: re.sub(\"ئ\", \"ء\",str(x)))\n",
    "            df['txt'] = df['txt'].map(lambda x: re.sub(\"ة\", \"ه\",str(x)))\n",
    "            df['txt'] = df['txt'].map(lambda x: re.sub(\"گ\", \"ك\",str(x)))\n",
    "\n",
    "            \n",
    "\n",
    "            #def remove_punctuations(text):\n",
    "            df['txt'] = df['txt'].map(lambda x: re.sub(\"[\"+punctuations_list+\"]\",'',str(x)))\n",
    "\n",
    "            # remove_repeating_char(text):\n",
    "            df['txt'] = df['txt'].map(lambda x: re.sub(r'(.)\\1+', r'\\1', str(x)))\n",
    "            # remove '\\\\n'\n",
    "            df['txt'] = df['txt'].map(lambda x: re.sub('\\\\n',' ',str(x)))\n",
    "\n",
    "            # remove any text starting with User... \n",
    "            df['txt'] = df['txt'].map(lambda x: re.sub(\"\\[\\[User.*\",'',str(x)))\n",
    "\n",
    "            # remove IP addresses or user IDs\n",
    "            df['txt'] = df['txt'].map(lambda x: re.sub(\"\\d{1,3}\\.\\d{1,3}\\.\\d{1,3}\\.\\d{1,3}\",'',str(x)))\n",
    "\n",
    "            # lower uppercase letters\n",
    "            #df['txt'] = df['txt'].map(lambda x: str(x).lower())\n",
    "\n",
    "            #remove http links in the text\n",
    "            df['txt'] = df['txt'].map(lambda x: re.sub(\"(http://.*?\\s)|(http://.*)\",'',str(x)))\n",
    "\n",
    "            #remove all punctuation\n",
    "            df['txt'] = df['txt'].map(lambda x: re.sub(\"_\", '',str(x)))\n",
    "            df['txt'] = df['txt'].map(lambda x: re.sub(\"«\", ' ',str(x)))\n",
    "            df['txt'] = df['txt'].map(lambda x: re.sub(\"»\", ' ',str(x)))\n",
    "            df['txt'] = df['txt'].map(lambda x: re.sub(\"“\", ' ',str(x)))\n",
    "            df['txt'] = df['txt'].map(lambda x: re.sub(\"”\", ' ',str(x)))\n",
    "            df['txt'] = df['txt'].map(lambda x: re.sub(\"♥\", ' ',str(x)))\n",
    "            df['txt'] = df['txt'].map(lambda x: re.sub(\"♡\", ' ',str(x)))\n",
    "            df['txt'] = df['txt'].map(lambda x: re.sub(\"¥\", ' ',str(x)))\n",
    "            df['txt'] = df['txt'].map(lambda x: re.sub(\"؟\", ' ',str(x)))\n",
    "            df['txt'] = df['txt'].map(lambda x: re.sub(\"!\", ' ',str(x)))\n",
    "            df['txt'] = df['txt'].map(lambda x: re.sub(\"#\", ' ',str(x)))\n",
    "            df['txt'] = df['txt'].map(lambda x: re.sub(\"$\", ' ',str(x)))\n",
    "            df['txt'] = df['txt'].map(lambda x: re.sub(\"%\", ' ',str(x)))\n",
    "            df['txt'] = df['txt'].map(lambda x: re.sub(\"&\", ' ',str(x)))\n",
    "            df['txt'] = df['txt'].map(lambda x: re.sub(\"✖\", ' ',str(x)))\n",
    "            df['txt'] = df['txt'].map(lambda x: re.sub('ة', 'ه',str(x)))\n",
    "            df['txt'] = df['txt'].map(lambda x: re.sub(' ئ', 'ء',str(x)))\n",
    "            df['txt'] = df['txt'].map(lambda x: re.sub('ؤ', 'ء',str(x)))\n",
    "            df['txt'] = df['txt'].map(lambda x: re.sub('ے', 'ك',str(x)))\n",
    "            df['txt'] = df['txt'].map(lambda x: re.sub('ڪ', 'ك',str(x)))\n",
    "            df['txt'] = df['txt'].map(lambda x: re.sub('أ', 'ا',str(x)))\n",
    "            df['txt'] = df['txt'].map(lambda x: re.sub('إ', 'ا',str(x)))\n",
    "            df['txt'] = df['txt'].map(lambda x: re.sub('آ', 'ا',str(x)))\n",
    "\n",
    "            df['txt']= df['txt'].map(lambda x: re.sub(\"[\"+string.punctuation+\"]\",'',str(x)))\n",
    "            df['txt']= df['txt'].map(lambda x: re.sub(\"[\"+punctuations_list+\"]\",'',str(x)))\n",
    "            df['txt'] = df['txt'].map(lambda x: re.sub(\"[\"+digits+\"]\",'',str(x)))\n",
    "\n",
    "            #df['txt'] = df['txt'].map(lambda x: re.sub(r'[^\\x600-\\x6ff]','',str(x)))\n",
    "            df['txt'] = df['txt'].map(lambda x: re.sub(r'[a-zA-Z?]','',str(x))) \n",
    "            df['txt'].apply(lambda x: [item for item in x if item not in stop_words])\n",
    "        return df"
   ]
  },
  {
   "cell_type": "code",
   "execution_count": 100,
   "metadata": {},
   "outputs": [],
   "source": []
  }
 ],
 "metadata": {
  "kernelspec": {
   "display_name": "Python 3",
   "language": "python",
   "name": "python3"
  },
  "language_info": {
   "codemirror_mode": {
    "name": "ipython",
    "version": 3
   },
   "file_extension": ".py",
   "mimetype": "text/x-python",
   "name": "python",
   "nbconvert_exporter": "python",
   "pygments_lexer": "ipython3",
   "version": "3.6.5"
  }
 },
 "nbformat": 4,
 "nbformat_minor": 2
}
